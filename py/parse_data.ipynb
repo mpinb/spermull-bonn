{
 "cells": [
  {
   "cell_type": "code",
   "execution_count": 1,
   "metadata": {},
   "outputs": [],
   "source": [
    "import numpy as np\n",
    "import pandas as pd\n",
    "import OSMPythonTools as osm\n",
    "from tqdm import tqdm\n",
    "from geopy.geocoders import Nominatim\n",
    "from geopy.extra.rate_limiter import RateLimiter"
   ]
  },
  {
   "cell_type": "code",
   "execution_count": 4,
   "metadata": {},
   "outputs": [
    {
     "data": {
      "text/html": [
       "<div>\n",
       "<style scoped>\n",
       "    .dataframe tbody tr th:only-of-type {\n",
       "        vertical-align: middle;\n",
       "    }\n",
       "\n",
       "    .dataframe tbody tr th {\n",
       "        vertical-align: top;\n",
       "    }\n",
       "\n",
       "    .dataframe thead th {\n",
       "        text-align: right;\n",
       "    }\n",
       "</style>\n",
       "<table border=\"1\" class=\"dataframe\">\n",
       "  <thead>\n",
       "    <tr style=\"text-align: right;\">\n",
       "      <th></th>\n",
       "      <th>Unnamed: 0</th>\n",
       "      <th>PLAN_BEZ</th>\n",
       "      <th>STRASSE1</th>\n",
       "      <th>ORTSTEIL1</th>\n",
       "      <th>PLZ1</th>\n",
       "      <th>HNR_GE_AB</th>\n",
       "      <th>HNR_GE_BIS</th>\n",
       "      <th>HNR_UG_AB</th>\n",
       "      <th>HNR_UG_BIS</th>\n",
       "      <th>TERMIN001</th>\n",
       "      <th>TERMIN002</th>\n",
       "      <th>TERMIN003</th>\n",
       "    </tr>\n",
       "  </thead>\n",
       "  <tbody>\n",
       "    <tr>\n",
       "      <th>0</th>\n",
       "      <td>11</td>\n",
       "      <td>Sperrmüll</td>\n",
       "      <td>Simone-Veil-Straße</td>\n",
       "      <td>0</td>\n",
       "      <td>53121</td>\n",
       "      <td>2</td>\n",
       "      <td>9998</td>\n",
       "      <td>1</td>\n",
       "      <td>9999</td>\n",
       "      <td>2025-02-04</td>\n",
       "      <td>2025-05-23</td>\n",
       "      <td>2025-10-07</td>\n",
       "    </tr>\n",
       "    <tr>\n",
       "      <th>1</th>\n",
       "      <td>31</td>\n",
       "      <td>Sperrmüll</td>\n",
       "      <td>Aennchenplatz</td>\n",
       "      <td>Alt-Godesberg</td>\n",
       "      <td>53173</td>\n",
       "      <td>2</td>\n",
       "      <td>9998</td>\n",
       "      <td>1</td>\n",
       "      <td>9999</td>\n",
       "      <td>2025-03-07</td>\n",
       "      <td>2025-06-24</td>\n",
       "      <td>2025-11-14</td>\n",
       "    </tr>\n",
       "    <tr>\n",
       "      <th>2</th>\n",
       "      <td>46</td>\n",
       "      <td>Sperrmüll</td>\n",
       "      <td>Aennchenstr.</td>\n",
       "      <td>Alt-Godesberg</td>\n",
       "      <td>53177</td>\n",
       "      <td>2</td>\n",
       "      <td>9998</td>\n",
       "      <td>1</td>\n",
       "      <td>9999</td>\n",
       "      <td>2025-03-07</td>\n",
       "      <td>2025-06-24</td>\n",
       "      <td>2025-11-14</td>\n",
       "    </tr>\n",
       "    <tr>\n",
       "      <th>3</th>\n",
       "      <td>61</td>\n",
       "      <td>Sperrmüll</td>\n",
       "      <td>Alte Bahnhofstr.</td>\n",
       "      <td>Alt-Godesberg</td>\n",
       "      <td>53173</td>\n",
       "      <td>2</td>\n",
       "      <td>9998</td>\n",
       "      <td>1</td>\n",
       "      <td>9999</td>\n",
       "      <td>2025-03-12</td>\n",
       "      <td>2025-06-25</td>\n",
       "      <td>2025-11-13</td>\n",
       "    </tr>\n",
       "    <tr>\n",
       "      <th>4</th>\n",
       "      <td>76</td>\n",
       "      <td>Sperrmüll</td>\n",
       "      <td>Am Bismarckturm</td>\n",
       "      <td>Alt-Godesberg</td>\n",
       "      <td>53177</td>\n",
       "      <td>2</td>\n",
       "      <td>9998</td>\n",
       "      <td>1</td>\n",
       "      <td>9999</td>\n",
       "      <td>2025-03-10</td>\n",
       "      <td>2025-06-26</td>\n",
       "      <td>2025-11-17</td>\n",
       "    </tr>\n",
       "  </tbody>\n",
       "</table>\n",
       "</div>"
      ],
      "text/plain": [
       "   Unnamed: 0   PLAN_BEZ            STRASSE1      ORTSTEIL1   PLZ1  HNR_GE_AB  \\\n",
       "0          11  Sperrmüll  Simone-Veil-Straße              0  53121          2   \n",
       "1          31  Sperrmüll       Aennchenplatz  Alt-Godesberg  53173          2   \n",
       "2          46  Sperrmüll        Aennchenstr.  Alt-Godesberg  53177          2   \n",
       "3          61  Sperrmüll    Alte Bahnhofstr.  Alt-Godesberg  53173          2   \n",
       "4          76  Sperrmüll     Am Bismarckturm  Alt-Godesberg  53177          2   \n",
       "\n",
       "   HNR_GE_BIS  HNR_UG_AB  HNR_UG_BIS   TERMIN001   TERMIN002   TERMIN003  \n",
       "0        9998          1        9999  2025-02-04  2025-05-23  2025-10-07  \n",
       "1        9998          1        9999  2025-03-07  2025-06-24  2025-11-14  \n",
       "2        9998          1        9999  2025-03-07  2025-06-24  2025-11-14  \n",
       "3        9998          1        9999  2025-03-12  2025-06-25  2025-11-13  \n",
       "4        9998          1        9999  2025-03-10  2025-06-26  2025-11-17  "
      ]
     },
     "execution_count": 4,
     "metadata": {},
     "output_type": "execute_result"
    }
   ],
   "source": [
    "df = pd.read_csv(\n",
    "    \"/gpfs/soma_fs/scratch/meulemeester/project_src/spermull-bonn/data/spermullterminebonn2025.csv\",\n",
    "    dtype={\n",
    "        \"HNR_GE_AB\": \"Int64\", \n",
    "        \"HNR_GE_BIS\": \"Int64\", \n",
    "        \"HNR_UG_AB\": \"Int64\", \n",
    "        \"HNR_UG_BIS\": \"Int64\"}\n",
    "    )\n",
    "df.head()"
   ]
  },
  {
   "cell_type": "code",
   "execution_count": null,
   "metadata": {},
   "outputs": [],
   "source": [
    "def get_addr(entry, nr_col):\n",
    "    assert all([e in entry for e in (\"STRASSE1\", nr_col, \"PLZ1\")])\n",
    "    return \" \".join(entry[['STRASSE1', nr_col, \"PLZ1\"]].values.astype(str)) + \" BONN\""
   ]
  },
  {
   "cell_type": "code",
   "execution_count": 6,
   "metadata": {},
   "outputs": [],
   "source": [
    "# Dont do this\n",
    "# map APIs do not allow bulk decoding \n",
    "# and throttle your querys to 1 per second\n",
    "\n",
    "# tqdm.pandas()\n",
    "geolocator = Nominatim(user_agent=\"geoapi\")\n",
    "# geocode = RateLimiter(geolocator.geocode, min_delay_seconds=1)\n",
    "# addr = df.apply(get_addr, nr_col=\"HNR_GE_AB\", axis=1).progress_apply(geocode)"
   ]
  },
  {
   "cell_type": "code",
   "execution_count": 7,
   "metadata": {},
   "outputs": [
    {
     "data": {
      "text/plain": [
       "Location(NYCE Hotel, 2, Bernkasteler Straße, Godesberg-Nord, Bad Godesberg, Bonn, Nordrhein-Westfalen, 53175, Deutschland, (50.6928227, 7.1362256, 0.0))"
      ]
     },
     "execution_count": 7,
     "metadata": {},
     "output_type": "execute_result"
    }
   ],
   "source": [
    "geolocator.geocode(\"Bernkasteler Straße 2, Bonn\")"
   ]
  },
  {
   "cell_type": "code",
   "execution_count": 18,
   "metadata": {},
   "outputs": [
    {
     "ename": "KeyboardInterrupt",
     "evalue": "",
     "output_type": "error",
     "traceback": [
      "\u001b[31m---------------------------------------------------------------------------\u001b[39m",
      "\u001b[31mKeyboardInterrupt\u001b[39m                         Traceback (most recent call last)",
      "\u001b[31mKeyboardInterrupt\u001b[39m: "
     ]
    }
   ],
   "source": [
    "import osmium\n",
    "\n",
    "for obj in osmium.FileProcessor(\n",
    "    '/gpfs/soma_fs/scratch/meulemeester/project_src/spermull-bonn/data/koeln-regbez-latest.osm.pbf'\n",
    "    )\\\n",
    "    .with_filter(osmium.filter.KeyFilter('place').enable_for(osmium.osm.NODE))\\\n",
    "    .with_filter(osmium.filter.EntityFilter(osmium.osm.NODE)):\n",
    "    if obj.tags['place'] == 'Bonn':\n",
    "        print(obj.tags)\n",
    "obj.keys()"
   ]
  },
  {
   "cell_type": "code",
   "execution_count": null,
   "metadata": {},
   "outputs": [],
   "source": []
  }
 ],
 "metadata": {
  "kernelspec": {
   "display_name": "Python 3 (ipykernel)",
   "language": "python",
   "name": "python3"
  },
  "orig_nbformat": 4
 },
 "nbformat": 4,
 "nbformat_minor": 2
}
